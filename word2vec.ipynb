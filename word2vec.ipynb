{
  "nbformat": 4,
  "nbformat_minor": 0,
  "metadata": {
    "colab": {
      "provenance": [],
      "authorship_tag": "ABX9TyM/0BopUWgc7DQ/yB1gIqcW",
      "include_colab_link": true
    },
    "kernelspec": {
      "name": "python3",
      "display_name": "Python 3"
    },
    "language_info": {
      "name": "python"
    }
  },
  "cells": [
    {
      "cell_type": "markdown",
      "metadata": {
        "id": "view-in-github",
        "colab_type": "text"
      },
      "source": [
        "<a href=\"https://colab.research.google.com/github/achal-durden/NLP-models/blob/master/word2vec.ipynb\" target=\"_parent\"><img src=\"https://colab.research.google.com/assets/colab-badge.svg\" alt=\"Open In Colab\"/></a>"
      ]
    },
    {
      "cell_type": "markdown",
      "source": [],
      "metadata": {
        "id": "JyT5RRKxME4M"
      }
    },
    {
      "cell_type": "code",
      "execution_count": 75,
      "metadata": {
        "id": "q78kPNhgEAlC"
      },
      "outputs": [],
      "source": [
        "corpus = [\"apple banana fruit\", \"banana apple fruit\", \"banana fruit apple\",\n",
        "          \"dog cat animal\", \"cat animal dog\", \"cat dog animal\"]"
      ]
    },
    {
      "cell_type": "code",
      "source": [
        "import numpy as np\n",
        "import torch.nn as nn\n",
        "import torch.optim as optim\n",
        "import torch\n",
        "import matplotlib.pyplot as plt"
      ],
      "metadata": {
        "id": "f55FVjvP1I5P"
      },
      "execution_count": 76,
      "outputs": []
    },
    {
      "cell_type": "code",
      "source": [
        "corpus=[i.split(\" \") for i in corpus]"
      ],
      "metadata": {
        "id": "tcyCK4wdMFdk"
      },
      "execution_count": 77,
      "outputs": []
    },
    {
      "cell_type": "code",
      "source": [
        "corpus"
      ],
      "metadata": {
        "colab": {
          "base_uri": "https://localhost:8080/"
        },
        "id": "-1wqmNwxMK1C",
        "outputId": "33e45438-3053-4ab7-f6d8-a5923c296231"
      },
      "execution_count": 78,
      "outputs": [
        {
          "output_type": "execute_result",
          "data": {
            "text/plain": [
              "[['apple', 'banana', 'fruit'],\n",
              " ['banana', 'apple', 'fruit'],\n",
              " ['banana', 'fruit', 'apple'],\n",
              " ['dog', 'cat', 'animal'],\n",
              " ['cat', 'animal', 'dog'],\n",
              " ['cat', 'dog', 'animal']]"
            ]
          },
          "metadata": {},
          "execution_count": 78
        }
      ]
    },
    {
      "cell_type": "code",
      "source": [
        "flat= lambda L: [item for i in L for item in i]"
      ],
      "metadata": {
        "id": "tF1I6tdkMWY5"
      },
      "execution_count": 79,
      "outputs": []
    },
    {
      "cell_type": "code",
      "source": [
        "vocab=list(set(flat(corpus)))"
      ],
      "metadata": {
        "id": "f1P866aAMezK"
      },
      "execution_count": 80,
      "outputs": []
    },
    {
      "cell_type": "code",
      "source": [
        "vocab"
      ],
      "metadata": {
        "colab": {
          "base_uri": "https://localhost:8080/"
        },
        "id": "06UmwQHuMmaa",
        "outputId": "1f95a2bf-30cd-4515-ac93-c98338bb2de1"
      },
      "execution_count": 81,
      "outputs": [
        {
          "output_type": "execute_result",
          "data": {
            "text/plain": [
              "['cat', 'fruit', 'dog', 'animal', 'apple', 'banana']"
            ]
          },
          "metadata": {},
          "execution_count": 81
        }
      ]
    },
    {
      "cell_type": "code",
      "source": [
        "word2index = {v:k for k,v in enumerate(vocab)}"
      ],
      "metadata": {
        "id": "HYEg2aKKNwtD"
      },
      "execution_count": 82,
      "outputs": []
    },
    {
      "cell_type": "code",
      "source": [
        "word2index['apple']"
      ],
      "metadata": {
        "colab": {
          "base_uri": "https://localhost:8080/"
        },
        "id": "qgDhHGHTThWp",
        "outputId": "5be79725-3f2e-40b5-eb98-2763babe3249"
      },
      "execution_count": 83,
      "outputs": [
        {
          "output_type": "execute_result",
          "data": {
            "text/plain": [
              "4"
            ]
          },
          "metadata": {},
          "execution_count": 83
        }
      ]
    },
    {
      "cell_type": "code",
      "source": [
        "vocab.append('<UNK>')\n",
        "word2index['<UNK>'] = 6"
      ],
      "metadata": {
        "id": "XRBmS-T0TkGk"
      },
      "execution_count": 84,
      "outputs": []
    },
    {
      "cell_type": "code",
      "source": [
        "word2index.items()"
      ],
      "metadata": {
        "colab": {
          "base_uri": "https://localhost:8080/"
        },
        "id": "10BHHKYwp5BA",
        "outputId": "8fd1906d-0935-4fa0-d1ce-d43bd640b573"
      },
      "execution_count": 85,
      "outputs": [
        {
          "output_type": "execute_result",
          "data": {
            "text/plain": [
              "dict_items([('cat', 0), ('fruit', 1), ('dog', 2), ('animal', 3), ('apple', 4), ('banana', 5), ('<UNK>', 6)])"
            ]
          },
          "metadata": {},
          "execution_count": 85
        }
      ]
    },
    {
      "cell_type": "code",
      "source": [
        "index2word ={v:k for k, v in word2index.items()}"
      ],
      "metadata": {
        "id": "yKs-Cg43TyGJ"
      },
      "execution_count": 86,
      "outputs": []
    },
    {
      "cell_type": "code",
      "source": [
        "index2word[5]"
      ],
      "metadata": {
        "colab": {
          "base_uri": "https://localhost:8080/",
          "height": 36
        },
        "id": "aZzNDsHJqG7u",
        "outputId": "71e1add2-0eb1-407c-e04c-b17fd2ae492c"
      },
      "execution_count": 87,
      "outputs": [
        {
          "output_type": "execute_result",
          "data": {
            "text/plain": [
              "'banana'"
            ],
            "application/vnd.google.colaboratory.intrinsic+json": {
              "type": "string"
            }
          },
          "metadata": {},
          "execution_count": 87
        }
      ]
    },
    {
      "cell_type": "code",
      "source": [
        "def random_batch(batch_size,corpus):\n",
        "\n",
        "   skipgram=[]\n",
        "\n",
        "   for doc in corpus:\n",
        "      for i in range(1,len(doc)-1):\n",
        "          center=word2index[doc[i]]\n",
        "          outside=(word2index[doc[i-1]],word2index[doc[i+1]])\n",
        "          for e in outside:\n",
        "              skipgram.append([center,e])\n",
        "\n",
        "   random_index=np.random.choice(range(len(skipgram)),batch_size,replace=False)\n",
        "  #  print(random_index)\n",
        "   input,labels=[],[]\n",
        "   for index in random_index:\n",
        "      input.append([skipgram[index][0]])\n",
        "      labels.append([skipgram[index][1]])\n",
        "\n",
        "\n",
        "   return np.array(input),np.array(labels)"
      ],
      "metadata": {
        "id": "cdf38pnGT3lK"
      },
      "execution_count": 88,
      "outputs": []
    },
    {
      "cell_type": "code",
      "source": [
        "x,y=random_batch(2,corpus)"
      ],
      "metadata": {
        "id": "OtYi2CcvYXu9"
      },
      "execution_count": 89,
      "outputs": []
    },
    {
      "cell_type": "code",
      "source": [
        "emd=nn.Embedding(7,2)"
      ],
      "metadata": {
        "id": "xhg5FFBEDoOB"
      },
      "execution_count": 90,
      "outputs": []
    },
    {
      "cell_type": "code",
      "source": [
        "x,y"
      ],
      "metadata": {
        "colab": {
          "base_uri": "https://localhost:8080/"
        },
        "id": "s5gl8ghUxqz2",
        "outputId": "d63ced8a-8474-48a9-95e5-d0d176db4b05"
      },
      "execution_count": 91,
      "outputs": [
        {
          "output_type": "execute_result",
          "data": {
            "text/plain": [
              "(array([[5],\n",
              "        [3]]),\n",
              " array([[4],\n",
              "        [0]]))"
            ]
          },
          "metadata": {},
          "execution_count": 91
        }
      ]
    },
    {
      "cell_type": "code",
      "source": [
        "class Skipgram(nn.Module):\n",
        "    def __init__(self,voc_size,emb_size):\n",
        "        super(Skipgram, self).__init__()\n",
        "        self.embedding_center=nn.Embedding(voc_size,emb_size)\n",
        "        self.embedding_outside=nn.Embedding(voc_size,emb_size)\n",
        "\n",
        "\n",
        "    def forward(self,center,outside,all_vocabs):\n",
        "      center_embedding=self.embedding_center(center) #(batch_size, 1, emb_size)\n",
        "      outside_embedding=self.embedding_outside(outside)\n",
        "      all_vocabs_embedding=self.embedding_outside(all_vocabs)\n",
        "\n",
        "\n",
        "      top_term=torch.exp(outside_embedding.bmm(center_embedding.transpose(1,2)).squeeze(2))\n",
        "      # top_term=torch.exp(outside_embedding.bmm(center_embedding.transpose(1,2)).squeeze(2))\n",
        "\n",
        "      lower_term=all_vocabs_embedding.bmm(center_embedding.transpose(1,2)).squeeze(2)\n",
        "\n",
        "      lower_term_sum=torch.sum(torch.exp(lower_term),1)\n",
        "\n",
        "      loss_fn=-torch.mean(torch.log((top_term/lower_term_sum)))\n",
        "\n",
        "      return loss_fn\n",
        "\n"
      ],
      "metadata": {
        "id": "j_NOuNWJm92z"
      },
      "execution_count": 92,
      "outputs": []
    },
    {
      "cell_type": "code",
      "source": [
        "#prepare all vocabs\n",
        "\n",
        "batch_size=2\n",
        "voc_size = len(vocab)\n",
        "\n",
        "def prepare_sequence(seq,word2index):\n",
        "\n",
        "  idx=list(map(lambda w: word2index[w] if word2index.get(w) is not None else word2index['<UNK>'],seq))\n",
        "  return torch.LongTensor(idx)\n",
        "\n",
        "\n",
        "all_vocab=prepare_sequence(list(vocab),word2index).expand(batch_size,voc_size)\n",
        "all_vocab\n"
      ],
      "metadata": {
        "id": "VJbtYXO5iIXB",
        "colab": {
          "base_uri": "https://localhost:8080/"
        },
        "outputId": "390345ec-483e-4c78-cbb2-ce2a8a11c998"
      },
      "execution_count": 93,
      "outputs": [
        {
          "output_type": "execute_result",
          "data": {
            "text/plain": [
              "tensor([[0, 1, 2, 3, 4, 5, 6],\n",
              "        [0, 1, 2, 3, 4, 5, 6]])"
            ]
          },
          "metadata": {},
          "execution_count": 93
        }
      ]
    },
    {
      "cell_type": "code",
      "source": [
        "model=Skipgram(voc_size,2)\n",
        "model"
      ],
      "metadata": {
        "id": "yiFEd1qRIGvB",
        "colab": {
          "base_uri": "https://localhost:8080/"
        },
        "outputId": "52ebd905-a15d-4ca6-bc67-2000c0d9a388"
      },
      "execution_count": 94,
      "outputs": [
        {
          "output_type": "execute_result",
          "data": {
            "text/plain": [
              "Skipgram(\n",
              "  (embedding_center): Embedding(7, 2)\n",
              "  (embedding_outside): Embedding(7, 2)\n",
              ")"
            ]
          },
          "metadata": {},
          "execution_count": 94
        }
      ]
    },
    {
      "cell_type": "code",
      "source": [
        "input_tensor = torch.LongTensor(x)\n",
        "label_tensor = torch.LongTensor(y)"
      ],
      "metadata": {
        "id": "A9yVDxq8uGj4"
      },
      "execution_count": 95,
      "outputs": []
    },
    {
      "cell_type": "code",
      "source": [
        "input_tensor.shape,label_tensor.shape"
      ],
      "metadata": {
        "colab": {
          "base_uri": "https://localhost:8080/"
        },
        "id": "3b4N_6rCiz_9",
        "outputId": "f4993f2f-d566-4bff-fa1e-abde860260bc"
      },
      "execution_count": 96,
      "outputs": [
        {
          "output_type": "execute_result",
          "data": {
            "text/plain": [
              "(torch.Size([2, 1]), torch.Size([2, 1]))"
            ]
          },
          "metadata": {},
          "execution_count": 96
        }
      ]
    },
    {
      "cell_type": "code",
      "source": [
        "loss=model(input_tensor,label_tensor,all_vocab)\n",
        "loss"
      ],
      "metadata": {
        "colab": {
          "base_uri": "https://localhost:8080/"
        },
        "id": "aY4XydDUuJa8",
        "outputId": "8f5906a2-7adf-49f9-9d2b-a4e0fabd3272"
      },
      "execution_count": 97,
      "outputs": [
        {
          "output_type": "execute_result",
          "data": {
            "text/plain": [
              "tensor(1.5234, grad_fn=<NegBackward0>)"
            ]
          },
          "metadata": {},
          "execution_count": 97
        }
      ]
    },
    {
      "cell_type": "code",
      "source": [
        "batch_size = 2\n",
        "emb_size   = 2\n",
        "model      = Skipgram(voc_size, emb_size)\n",
        "optimizer  = optim.Adam(model.parameters(), lr=0.001)"
      ],
      "metadata": {
        "id": "SvQRDD1HueWs"
      },
      "execution_count": 98,
      "outputs": []
    },
    {
      "cell_type": "code",
      "source": [
        "num_epochs=10000\n",
        "\n",
        "for epoch in range(num_epochs):\n",
        "  input_batch,label_batch=random_batch(batch_size,corpus)\n",
        "  input_tensor=torch.LongTensor(input_batch)\n",
        "  label_tensor=torch.LongTensor(label_batch)\n",
        "\n",
        "\n",
        "  loss=model(input_tensor,label_tensor,all_vocab)\n",
        "\n",
        "  optimizer.zero_grad()\n",
        "  loss.backward()\n",
        "\n",
        "  optimizer.step()\n",
        "\n",
        "  if((epoch+1)%1000==0):\n",
        "    print(f\"Epoch {epoch+1:6.0f} | Loss: {loss:2.6f}\")\n",
        "\n"
      ],
      "metadata": {
        "colab": {
          "base_uri": "https://localhost:8080/"
        },
        "id": "Fio52b1EH2cf",
        "outputId": "f2373059-b4d9-4bff-99c9-1354c0c04261"
      },
      "execution_count": 99,
      "outputs": [
        {
          "output_type": "stream",
          "name": "stdout",
          "text": [
            "Epoch   1000 | Loss: 1.589535\n",
            "Epoch   2000 | Loss: 1.187958\n",
            "Epoch   3000 | Loss: 1.105368\n",
            "Epoch   4000 | Loss: 1.117853\n",
            "Epoch   5000 | Loss: 1.082023\n",
            "Epoch   6000 | Loss: 1.085363\n",
            "Epoch   7000 | Loss: 1.130223\n",
            "Epoch   8000 | Loss: 1.081376\n",
            "Epoch   9000 | Loss: 1.131266\n",
            "Epoch  10000 | Loss: 1.126192\n"
          ]
        }
      ]
    },
    {
      "cell_type": "code",
      "source": [
        "banana = torch.LongTensor([word2index['banana']])\n",
        "banana"
      ],
      "metadata": {
        "colab": {
          "base_uri": "https://localhost:8080/"
        },
        "id": "TAxn8nz4VgQn",
        "outputId": "910392b2-bc63-4cb9-8df9-9d5329de2d26"
      },
      "execution_count": 100,
      "outputs": [
        {
          "output_type": "execute_result",
          "data": {
            "text/plain": [
              "tensor([5])"
            ]
          },
          "metadata": {},
          "execution_count": 100
        }
      ]
    },
    {
      "cell_type": "code",
      "source": [
        "banana_embed_c = model.embedding_center(banana)\n",
        "banana_embed_o = model.embedding_outside(banana)\n",
        "\n",
        "banana_embed   = (banana_embed_c + banana_embed_o) / 2\n",
        "banana_embed_c,banana_embed_o"
      ],
      "metadata": {
        "id": "KyKfuvFyVgr1",
        "colab": {
          "base_uri": "https://localhost:8080/"
        },
        "outputId": "a3ff9aae-5277-445f-b027-2e9f2f6d2b3d"
      },
      "execution_count": 101,
      "outputs": [
        {
          "output_type": "execute_result",
          "data": {
            "text/plain": [
              "(tensor([[-1.7048,  0.3342]], grad_fn=<EmbeddingBackward0>),\n",
              " tensor([[0.5561, 0.1469]], grad_fn=<EmbeddingBackward0>))"
            ]
          },
          "metadata": {},
          "execution_count": 101
        }
      ]
    },
    {
      "cell_type": "code",
      "source": [
        "def get_embed(word):\n",
        "  try:\n",
        "    index=word2index[word]\n",
        "  except:\n",
        "    index=word2index['<UNK>']\n",
        "\n",
        "  word = torch.LongTensor([word2index[word]])\n",
        "  embed_c = model.embedding_center(word)\n",
        "  embed_o = model.embedding_outside(word)\n",
        "  embed   = (embed_c + embed_o) / 2\n",
        "\n",
        "  return embed[0][0].item(), embed[0][1].item()"
      ],
      "metadata": {
        "id": "GEdvcxe_QIm0"
      },
      "execution_count": 102,
      "outputs": []
    },
    {
      "cell_type": "code",
      "source": [
        "get_embed('fruit')"
      ],
      "metadata": {
        "id": "WuG6Tncmg_xD",
        "colab": {
          "base_uri": "https://localhost:8080/"
        },
        "outputId": "2e8f6313-c939-4ac6-d3eb-23c1a91d7596"
      },
      "execution_count": 103,
      "outputs": [
        {
          "output_type": "execute_result",
          "data": {
            "text/plain": [
              "(-0.8489255905151367, 0.361965537071228)"
            ]
          },
          "metadata": {},
          "execution_count": 103
        }
      ]
    },
    {
      "cell_type": "code",
      "source": [
        "plt.figure(figsize=(5,4))\n",
        "for i,word in enumerate(vocab):\n",
        "   x,y=get_embed(word)\n",
        "   plt.scatter(x,y)\n",
        "   plt.annotate(word, xy=(x, y), xytext=(5, 2), textcoords='offset points')\n",
        "plt.plot()"
      ],
      "metadata": {
        "colab": {
          "base_uri": "https://localhost:8080/",
          "height": 386
        },
        "id": "DpBR8HzclYX3",
        "outputId": "5ba42858-c8cf-4d63-a653-f2dd43d53c49"
      },
      "execution_count": 104,
      "outputs": [
        {
          "output_type": "execute_result",
          "data": {
            "text/plain": [
              "[]"
            ]
          },
          "metadata": {},
          "execution_count": 104
        },
        {
          "output_type": "display_data",
          "data": {
            "text/plain": [
              "<Figure size 500x400 with 1 Axes>"
            ],
            "image/png": "[encoded data removed]"
          },
          "metadata": {}
        }
      ]
    },
    {
      "cell_type": "code",
      "source": [],
      "metadata": {
        "id": "WBaqwC0ym5bq"
      },
      "execution_count": 104,
      "outputs": []
    }
  ]
}